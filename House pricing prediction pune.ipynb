{
 "cells": [
  {
   "cell_type": "code",
   "execution_count": 1,
   "id": "3d71995d",
   "metadata": {},
   "outputs": [],
   "source": [
    "# Importing essential libraries\n",
    "import numpy as np\n",
    "import pandas as pd\n",
    "from matplotlib import pyplot as plt\n",
    "from matplotlib import rcParams as rcP\n",
    "%matplotlib inline"
   ]
  },
  {
   "cell_type": "code",
   "execution_count": 2,
   "id": "e7dda79d",
   "metadata": {},
   "outputs": [
    {
     "data": {
      "text/html": [
       "<div>\n",
       "<style scoped>\n",
       "    .dataframe tbody tr th:only-of-type {\n",
       "        vertical-align: middle;\n",
       "    }\n",
       "\n",
       "    .dataframe tbody tr th {\n",
       "        vertical-align: top;\n",
       "    }\n",
       "\n",
       "    .dataframe thead th {\n",
       "        text-align: right;\n",
       "    }\n",
       "</style>\n",
       "<table border=\"1\" class=\"dataframe\">\n",
       "  <thead>\n",
       "    <tr style=\"text-align: right;\">\n",
       "      <th></th>\n",
       "      <th>area_type</th>\n",
       "      <th>availability</th>\n",
       "      <th>size</th>\n",
       "      <th>society</th>\n",
       "      <th>total_sqft</th>\n",
       "      <th>bath</th>\n",
       "      <th>balcony</th>\n",
       "      <th>price</th>\n",
       "      <th>site_location</th>\n",
       "    </tr>\n",
       "  </thead>\n",
       "  <tbody>\n",
       "    <tr>\n",
       "      <th>0</th>\n",
       "      <td>Super built-up  Area</td>\n",
       "      <td>19-Dec</td>\n",
       "      <td>2 BHK</td>\n",
       "      <td>Coomee</td>\n",
       "      <td>1056</td>\n",
       "      <td>2.0</td>\n",
       "      <td>1.0</td>\n",
       "      <td>39.07</td>\n",
       "      <td>Alandi Road</td>\n",
       "    </tr>\n",
       "    <tr>\n",
       "      <th>1</th>\n",
       "      <td>Plot  Area</td>\n",
       "      <td>Ready To Move</td>\n",
       "      <td>4 Bedroom</td>\n",
       "      <td>Theanmp</td>\n",
       "      <td>2600</td>\n",
       "      <td>5.0</td>\n",
       "      <td>3.0</td>\n",
       "      <td>120.00</td>\n",
       "      <td>Ambegaon Budruk</td>\n",
       "    </tr>\n",
       "    <tr>\n",
       "      <th>2</th>\n",
       "      <td>Built-up  Area</td>\n",
       "      <td>Ready To Move</td>\n",
       "      <td>3 BHK</td>\n",
       "      <td>NaN</td>\n",
       "      <td>1440</td>\n",
       "      <td>2.0</td>\n",
       "      <td>3.0</td>\n",
       "      <td>62.00</td>\n",
       "      <td>Anandnagar</td>\n",
       "    </tr>\n",
       "    <tr>\n",
       "      <th>3</th>\n",
       "      <td>Super built-up  Area</td>\n",
       "      <td>Ready To Move</td>\n",
       "      <td>3 BHK</td>\n",
       "      <td>Soiewre</td>\n",
       "      <td>1521</td>\n",
       "      <td>3.0</td>\n",
       "      <td>1.0</td>\n",
       "      <td>95.00</td>\n",
       "      <td>Aundh</td>\n",
       "    </tr>\n",
       "    <tr>\n",
       "      <th>4</th>\n",
       "      <td>Super built-up  Area</td>\n",
       "      <td>Ready To Move</td>\n",
       "      <td>2 BHK</td>\n",
       "      <td>NaN</td>\n",
       "      <td>1200</td>\n",
       "      <td>2.0</td>\n",
       "      <td>1.0</td>\n",
       "      <td>51.00</td>\n",
       "      <td>Aundh Road</td>\n",
       "    </tr>\n",
       "  </tbody>\n",
       "</table>\n",
       "</div>"
      ],
      "text/plain": [
       "              area_type   availability       size  society total_sqft  bath  \\\n",
       "0  Super built-up  Area         19-Dec      2 BHK  Coomee        1056   2.0   \n",
       "1            Plot  Area  Ready To Move  4 Bedroom  Theanmp       2600   5.0   \n",
       "2        Built-up  Area  Ready To Move      3 BHK      NaN       1440   2.0   \n",
       "3  Super built-up  Area  Ready To Move      3 BHK  Soiewre       1521   3.0   \n",
       "4  Super built-up  Area  Ready To Move      2 BHK      NaN       1200   2.0   \n",
       "\n",
       "   balcony   price    site_location  \n",
       "0      1.0   39.07      Alandi Road  \n",
       "1      3.0  120.00  Ambegaon Budruk  \n",
       "2      3.0   62.00       Anandnagar  \n",
       "3      1.0   95.00            Aundh  \n",
       "4      1.0   51.00       Aundh Road  "
      ]
     },
     "execution_count": 2,
     "metadata": {},
     "output_type": "execute_result"
    }
   ],
   "source": [
    "# Loading the dataset\n",
    "df = pd.read_csv('pune_House_Data.csv')\n",
    "df.head()"
   ]
  },
  {
   "cell_type": "code",
   "execution_count": 3,
   "id": "d985808e",
   "metadata": {},
   "outputs": [
    {
     "data": {
      "text/plain": [
       "(13320, 9)"
      ]
     },
     "execution_count": 3,
     "metadata": {},
     "output_type": "execute_result"
    }
   ],
   "source": [
    "# Exploring the dataset\n",
    "df.shape"
   ]
  },
  {
   "cell_type": "code",
   "execution_count": 4,
   "id": "310b06c8",
   "metadata": {},
   "outputs": [
    {
     "data": {
      "text/plain": [
       "area_type\n",
       "Built-up  Area          2418\n",
       "Carpet  Area              87\n",
       "Plot  Area              2025\n",
       "Super built-up  Area    8790\n",
       "Name: area_type, dtype: int64"
      ]
     },
     "execution_count": 4,
     "metadata": {},
     "output_type": "execute_result"
    }
   ],
   "source": [
    "# Exploring the dataset\n",
    "df.groupby('area_type')['area_type'].agg('count')"
   ]
  },
  {
   "cell_type": "code",
   "execution_count": 5,
   "id": "f3e30894",
   "metadata": {},
   "outputs": [
    {
     "data": {
      "text/plain": [
       "size\n",
       "1 BHK          538\n",
       "1 Bedroom      105\n",
       "1 RK            13\n",
       "10 BHK           2\n",
       "10 Bedroom      12\n",
       "11 BHK           2\n",
       "11 Bedroom       2\n",
       "12 Bedroom       1\n",
       "13 BHK           1\n",
       "14 BHK           1\n",
       "16 BHK           1\n",
       "18 Bedroom       1\n",
       "19 BHK           1\n",
       "2 BHK         5199\n",
       "2 Bedroom      329\n",
       "27 BHK           1\n",
       "3 BHK         4310\n",
       "3 Bedroom      547\n",
       "4 BHK          591\n",
       "4 Bedroom      826\n",
       "43 Bedroom       1\n",
       "5 BHK           59\n",
       "5 Bedroom      297\n",
       "6 BHK           30\n",
       "6 Bedroom      191\n",
       "7 BHK           17\n",
       "7 Bedroom       83\n",
       "8 BHK            5\n",
       "8 Bedroom       84\n",
       "9 BHK            8\n",
       "9 Bedroom       46\n",
       "Name: size, dtype: int64"
      ]
     },
     "execution_count": 5,
     "metadata": {},
     "output_type": "execute_result"
    }
   ],
   "source": [
    "# Exploring the dataset\n",
    "df.groupby('size')['size'].agg('count')"
   ]
  },
  {
   "cell_type": "code",
   "execution_count": 6,
   "id": "4a4ae2d1",
   "metadata": {},
   "outputs": [
    {
     "data": {
      "text/plain": [
       "availability\n",
       "14-Jul                      1\n",
       "14-Nov                      1\n",
       "15-Aug                      1\n",
       "15-Dec                      1\n",
       "15-Jun                      1\n",
       "                        ...  \n",
       "22-Mar                      3\n",
       "22-May                     10\n",
       "22-Nov                      2\n",
       "Immediate Possession       16\n",
       "Ready To Move           10581\n",
       "Name: availability, Length: 81, dtype: int64"
      ]
     },
     "execution_count": 6,
     "metadata": {},
     "output_type": "execute_result"
    }
   ],
   "source": [
    "# Exploring the dataset\n",
    "df.groupby('availability')['availability'].agg('count')"
   ]
  },
  {
   "cell_type": "code",
   "execution_count": 7,
   "id": "83a22cbc",
   "metadata": {},
   "outputs": [
    {
     "data": {
      "text/plain": [
       "site_location\n",
       "Alandi Road        139\n",
       "Ambegaon Budruk    139\n",
       "Anandnagar         139\n",
       "Aundh              139\n",
       "Aundh Road         139\n",
       "                  ... \n",
       "Wakadewadi         138\n",
       "Wanowrie           138\n",
       "Warje              138\n",
       "Yerawada           138\n",
       "other                1\n",
       "Name: site_location, Length: 97, dtype: int64"
      ]
     },
     "execution_count": 7,
     "metadata": {},
     "output_type": "execute_result"
    }
   ],
   "source": [
    "# Exploring the dataset\n",
    "df.groupby('site_location')['site_location'].agg('count')"
   ]
  },
  {
   "cell_type": "code",
   "execution_count": 8,
   "id": "f31a5eee",
   "metadata": {},
   "outputs": [
    {
     "data": {
      "text/html": [
       "<div>\n",
       "<style scoped>\n",
       "    .dataframe tbody tr th:only-of-type {\n",
       "        vertical-align: middle;\n",
       "    }\n",
       "\n",
       "    .dataframe tbody tr th {\n",
       "        vertical-align: top;\n",
       "    }\n",
       "\n",
       "    .dataframe thead th {\n",
       "        text-align: right;\n",
       "    }\n",
       "</style>\n",
       "<table border=\"1\" class=\"dataframe\">\n",
       "  <thead>\n",
       "    <tr style=\"text-align: right;\">\n",
       "      <th></th>\n",
       "      <th>area_type</th>\n",
       "      <th>availability</th>\n",
       "      <th>size</th>\n",
       "      <th>total_sqft</th>\n",
       "      <th>bath</th>\n",
       "      <th>balcony</th>\n",
       "      <th>price</th>\n",
       "      <th>site_location</th>\n",
       "    </tr>\n",
       "  </thead>\n",
       "  <tbody>\n",
       "    <tr>\n",
       "      <th>0</th>\n",
       "      <td>Super built-up  Area</td>\n",
       "      <td>19-Dec</td>\n",
       "      <td>2 BHK</td>\n",
       "      <td>1056</td>\n",
       "      <td>2.0</td>\n",
       "      <td>1.0</td>\n",
       "      <td>39.07</td>\n",
       "      <td>Alandi Road</td>\n",
       "    </tr>\n",
       "    <tr>\n",
       "      <th>1</th>\n",
       "      <td>Plot  Area</td>\n",
       "      <td>Ready To Move</td>\n",
       "      <td>4 Bedroom</td>\n",
       "      <td>2600</td>\n",
       "      <td>5.0</td>\n",
       "      <td>3.0</td>\n",
       "      <td>120.00</td>\n",
       "      <td>Ambegaon Budruk</td>\n",
       "    </tr>\n",
       "    <tr>\n",
       "      <th>2</th>\n",
       "      <td>Built-up  Area</td>\n",
       "      <td>Ready To Move</td>\n",
       "      <td>3 BHK</td>\n",
       "      <td>1440</td>\n",
       "      <td>2.0</td>\n",
       "      <td>3.0</td>\n",
       "      <td>62.00</td>\n",
       "      <td>Anandnagar</td>\n",
       "    </tr>\n",
       "    <tr>\n",
       "      <th>3</th>\n",
       "      <td>Super built-up  Area</td>\n",
       "      <td>Ready To Move</td>\n",
       "      <td>3 BHK</td>\n",
       "      <td>1521</td>\n",
       "      <td>3.0</td>\n",
       "      <td>1.0</td>\n",
       "      <td>95.00</td>\n",
       "      <td>Aundh</td>\n",
       "    </tr>\n",
       "    <tr>\n",
       "      <th>4</th>\n",
       "      <td>Super built-up  Area</td>\n",
       "      <td>Ready To Move</td>\n",
       "      <td>2 BHK</td>\n",
       "      <td>1200</td>\n",
       "      <td>2.0</td>\n",
       "      <td>1.0</td>\n",
       "      <td>51.00</td>\n",
       "      <td>Aundh Road</td>\n",
       "    </tr>\n",
       "  </tbody>\n",
       "</table>\n",
       "</div>"
      ],
      "text/plain": [
       "              area_type   availability       size total_sqft  bath  balcony  \\\n",
       "0  Super built-up  Area         19-Dec      2 BHK       1056   2.0      1.0   \n",
       "1            Plot  Area  Ready To Move  4 Bedroom       2600   5.0      3.0   \n",
       "2        Built-up  Area  Ready To Move      3 BHK       1440   2.0      3.0   \n",
       "3  Super built-up  Area  Ready To Move      3 BHK       1521   3.0      1.0   \n",
       "4  Super built-up  Area  Ready To Move      2 BHK       1200   2.0      1.0   \n",
       "\n",
       "    price    site_location  \n",
       "0   39.07      Alandi Road  \n",
       "1  120.00  Ambegaon Budruk  \n",
       "2   62.00       Anandnagar  \n",
       "3   95.00            Aundh  \n",
       "4   51.00       Aundh Road  "
      ]
     },
     "execution_count": 8,
     "metadata": {},
     "output_type": "execute_result"
    }
   ],
   "source": [
    "# Removing the columns of society\n",
    "df = df.drop('society', axis='columns')\n",
    "df.head()"
   ]
  },
  {
   "cell_type": "code",
   "execution_count": 10,
   "id": "25a96340",
   "metadata": {},
   "outputs": [
    {
     "data": {
      "text/plain": [
       "area_type          0\n",
       "availability       0\n",
       "size              16\n",
       "total_sqft         0\n",
       "bath              73\n",
       "balcony          609\n",
       "price              0\n",
       "site_location      1\n",
       "dtype: int64"
      ]
     },
     "execution_count": 10,
     "metadata": {},
     "output_type": "execute_result"
    }
   ],
   "source": [
    "#Data Cleaning process\n",
    "# Data Cleaning\n",
    "# Checking the null values in the dataset\n",
    "df.isnull().sum()"
   ]
  },
  {
   "cell_type": "code",
   "execution_count": 11,
   "id": "364233af",
   "metadata": {},
   "outputs": [],
   "source": [
    "# Applying median to the balcony and bath column\n",
    "from math import floor\n",
    "\n",
    "balcony_median = float(floor(df.balcony.median()))\n",
    "bath_median = float(floor(df.bath.median()))\n",
    "\n",
    "df.balcony = df.balcony.fillna(balcony_median)\n",
    "df.bath = df.bath.fillna(bath_median)"
   ]
  },
  {
   "cell_type": "code",
   "execution_count": 12,
   "id": "6f773cf2",
   "metadata": {},
   "outputs": [
    {
     "data": {
      "text/plain": [
       "area_type         0\n",
       "availability      0\n",
       "size             16\n",
       "total_sqft        0\n",
       "bath              0\n",
       "balcony           0\n",
       "price             0\n",
       "site_location     1\n",
       "dtype: int64"
      ]
     },
     "execution_count": 12,
     "metadata": {},
     "output_type": "execute_result"
    }
   ],
   "source": [
    "# Checking the null values in the dataset again\n",
    "df.isnull().sum()"
   ]
  },
  {
   "cell_type": "code",
   "execution_count": 13,
   "id": "63f0e756",
   "metadata": {},
   "outputs": [
    {
     "data": {
      "text/plain": [
       "area_type        0\n",
       "availability     0\n",
       "size             0\n",
       "total_sqft       0\n",
       "bath             0\n",
       "balcony          0\n",
       "price            0\n",
       "site_location    0\n",
       "dtype: int64"
      ]
     },
     "execution_count": 13,
     "metadata": {},
     "output_type": "execute_result"
    }
   ],
   "source": [
    "# Dropping the rows with null values because the dataset is huge as compared to null values.\n",
    "df = df.dropna()\n",
    "df.isnull().sum()"
   ]
  },
  {
   "cell_type": "code",
   "execution_count": 15,
   "id": "6735a934",
   "metadata": {},
   "outputs": [
    {
     "data": {
      "text/plain": [
       "bhk\n",
       "1      656\n",
       "2     5527\n",
       "3     4857\n",
       "4     1417\n",
       "5      356\n",
       "6      221\n",
       "7      100\n",
       "8       89\n",
       "9       54\n",
       "10      14\n",
       "11       4\n",
       "12       1\n",
       "13       1\n",
       "14       1\n",
       "16       1\n",
       "18       1\n",
       "19       1\n",
       "27       1\n",
       "43       1\n",
       "Name: bhk, dtype: int64"
      ]
     },
     "execution_count": 15,
     "metadata": {},
     "output_type": "execute_result"
    }
   ],
   "source": [
    "# Converting the size column to bhk\n",
    "df['bhk'] = df['size'].apply(lambda x: int(x.split(' ')[0]))\n",
    "df = df.drop('size', axis='columns')\n",
    "df.groupby('bhk')['bhk'].agg('count')"
   ]
  },
  {
   "cell_type": "code",
   "execution_count": 16,
   "id": "378d171e",
   "metadata": {},
   "outputs": [
    {
     "data": {
      "text/plain": [
       "array(['1056', '2600', '1440', ..., '1133 - 1384', '774', '4689'],\n",
       "      dtype=object)"
      ]
     },
     "execution_count": 16,
     "metadata": {},
     "output_type": "execute_result"
    }
   ],
   "source": [
    "# Exploring the total_sqft column\n",
    "df.total_sqft.unique()"
   ]
  },
  {
   "cell_type": "code",
   "execution_count": 17,
   "id": "28fa1c39",
   "metadata": {},
   "outputs": [],
   "source": [
    "# Since the total_sqft contains range values such as 1133-1384, lets filter out these values\n",
    "def isFloat(x):\n",
    "    try:\n",
    "        float(x)\n",
    "    except:\n",
    "        return False\n",
    "    return True"
   ]
  },
  {
   "cell_type": "code",
   "execution_count": 18,
   "id": "bfadb718",
   "metadata": {},
   "outputs": [
    {
     "data": {
      "text/html": [
       "<div>\n",
       "<style scoped>\n",
       "    .dataframe tbody tr th:only-of-type {\n",
       "        vertical-align: middle;\n",
       "    }\n",
       "\n",
       "    .dataframe tbody tr th {\n",
       "        vertical-align: top;\n",
       "    }\n",
       "\n",
       "    .dataframe thead th {\n",
       "        text-align: right;\n",
       "    }\n",
       "</style>\n",
       "<table border=\"1\" class=\"dataframe\">\n",
       "  <thead>\n",
       "    <tr style=\"text-align: right;\">\n",
       "      <th></th>\n",
       "      <th>area_type</th>\n",
       "      <th>availability</th>\n",
       "      <th>total_sqft</th>\n",
       "      <th>bath</th>\n",
       "      <th>balcony</th>\n",
       "      <th>price</th>\n",
       "      <th>site_location</th>\n",
       "      <th>bhk</th>\n",
       "    </tr>\n",
       "  </thead>\n",
       "  <tbody>\n",
       "    <tr>\n",
       "      <th>30</th>\n",
       "      <td>Super built-up  Area</td>\n",
       "      <td>19-Dec</td>\n",
       "      <td>2100 - 2850</td>\n",
       "      <td>4.0</td>\n",
       "      <td>0.0</td>\n",
       "      <td>186.000</td>\n",
       "      <td>Gultekdi</td>\n",
       "      <td>4</td>\n",
       "    </tr>\n",
       "    <tr>\n",
       "      <th>56</th>\n",
       "      <td>Built-up  Area</td>\n",
       "      <td>20-Feb</td>\n",
       "      <td>3010 - 3410</td>\n",
       "      <td>2.0</td>\n",
       "      <td>2.0</td>\n",
       "      <td>192.000</td>\n",
       "      <td>Model colony</td>\n",
       "      <td>4</td>\n",
       "    </tr>\n",
       "    <tr>\n",
       "      <th>81</th>\n",
       "      <td>Built-up  Area</td>\n",
       "      <td>18-Oct</td>\n",
       "      <td>2957 - 3450</td>\n",
       "      <td>2.0</td>\n",
       "      <td>2.0</td>\n",
       "      <td>224.500</td>\n",
       "      <td>Shukrawar Peth</td>\n",
       "      <td>4</td>\n",
       "    </tr>\n",
       "    <tr>\n",
       "      <th>122</th>\n",
       "      <td>Super built-up  Area</td>\n",
       "      <td>18-Mar</td>\n",
       "      <td>3067 - 8156</td>\n",
       "      <td>4.0</td>\n",
       "      <td>0.0</td>\n",
       "      <td>477.000</td>\n",
       "      <td>Ganeshkhind</td>\n",
       "      <td>4</td>\n",
       "    </tr>\n",
       "    <tr>\n",
       "      <th>137</th>\n",
       "      <td>Super built-up  Area</td>\n",
       "      <td>19-Mar</td>\n",
       "      <td>1042 - 1105</td>\n",
       "      <td>2.0</td>\n",
       "      <td>0.0</td>\n",
       "      <td>54.005</td>\n",
       "      <td>Khadaki</td>\n",
       "      <td>2</td>\n",
       "    </tr>\n",
       "    <tr>\n",
       "      <th>...</th>\n",
       "      <td>...</td>\n",
       "      <td>...</td>\n",
       "      <td>...</td>\n",
       "      <td>...</td>\n",
       "      <td>...</td>\n",
       "      <td>...</td>\n",
       "      <td>...</td>\n",
       "      <td>...</td>\n",
       "    </tr>\n",
       "    <tr>\n",
       "      <th>12990</th>\n",
       "      <td>Super built-up  Area</td>\n",
       "      <td>18-May</td>\n",
       "      <td>1804 - 2273</td>\n",
       "      <td>3.0</td>\n",
       "      <td>0.0</td>\n",
       "      <td>122.000</td>\n",
       "      <td>Gokhale Nagar</td>\n",
       "      <td>3</td>\n",
       "    </tr>\n",
       "    <tr>\n",
       "      <th>13059</th>\n",
       "      <td>Super built-up  Area</td>\n",
       "      <td>Ready To Move</td>\n",
       "      <td>1200 - 1470</td>\n",
       "      <td>2.0</td>\n",
       "      <td>0.0</td>\n",
       "      <td>72.760</td>\n",
       "      <td>Anandnagar</td>\n",
       "      <td>2</td>\n",
       "    </tr>\n",
       "    <tr>\n",
       "      <th>13240</th>\n",
       "      <td>Super built-up  Area</td>\n",
       "      <td>Ready To Move</td>\n",
       "      <td>1020 - 1130</td>\n",
       "      <td>2.0</td>\n",
       "      <td>2.0</td>\n",
       "      <td>52.570</td>\n",
       "      <td>Vadgaon Budruk</td>\n",
       "      <td>1</td>\n",
       "    </tr>\n",
       "    <tr>\n",
       "      <th>13265</th>\n",
       "      <td>Super built-up  Area</td>\n",
       "      <td>20-Sep</td>\n",
       "      <td>1133 - 1384</td>\n",
       "      <td>2.0</td>\n",
       "      <td>0.0</td>\n",
       "      <td>59.135</td>\n",
       "      <td>Dapodi</td>\n",
       "      <td>2</td>\n",
       "    </tr>\n",
       "    <tr>\n",
       "      <th>13299</th>\n",
       "      <td>Super built-up  Area</td>\n",
       "      <td>18-Dec</td>\n",
       "      <td>2830 - 2882</td>\n",
       "      <td>5.0</td>\n",
       "      <td>0.0</td>\n",
       "      <td>154.500</td>\n",
       "      <td>Laxmi Road</td>\n",
       "      <td>4</td>\n",
       "    </tr>\n",
       "  </tbody>\n",
       "</table>\n",
       "<p>239 rows × 8 columns</p>\n",
       "</div>"
      ],
      "text/plain": [
       "                  area_type   availability   total_sqft  bath  balcony  \\\n",
       "30     Super built-up  Area         19-Dec  2100 - 2850   4.0      0.0   \n",
       "56           Built-up  Area         20-Feb  3010 - 3410   2.0      2.0   \n",
       "81           Built-up  Area         18-Oct  2957 - 3450   2.0      2.0   \n",
       "122    Super built-up  Area         18-Mar  3067 - 8156   4.0      0.0   \n",
       "137    Super built-up  Area         19-Mar  1042 - 1105   2.0      0.0   \n",
       "...                     ...            ...          ...   ...      ...   \n",
       "12990  Super built-up  Area         18-May  1804 - 2273   3.0      0.0   \n",
       "13059  Super built-up  Area  Ready To Move  1200 - 1470   2.0      0.0   \n",
       "13240  Super built-up  Area  Ready To Move  1020 - 1130   2.0      2.0   \n",
       "13265  Super built-up  Area         20-Sep  1133 - 1384   2.0      0.0   \n",
       "13299  Super built-up  Area         18-Dec  2830 - 2882   5.0      0.0   \n",
       "\n",
       "         price   site_location  bhk  \n",
       "30     186.000        Gultekdi    4  \n",
       "56     192.000    Model colony    4  \n",
       "81     224.500  Shukrawar Peth    4  \n",
       "122    477.000     Ganeshkhind    4  \n",
       "137     54.005         Khadaki    2  \n",
       "...        ...             ...  ...  \n",
       "12990  122.000   Gokhale Nagar    3  \n",
       "13059   72.760      Anandnagar    2  \n",
       "13240   52.570  Vadgaon Budruk    1  \n",
       "13265   59.135          Dapodi    2  \n",
       "13299  154.500      Laxmi Road    4  \n",
       "\n",
       "[239 rows x 8 columns]"
      ]
     },
     "execution_count": 18,
     "metadata": {},
     "output_type": "execute_result"
    }
   ],
   "source": [
    "# Displaying all the rows that are not integers\n",
    "df[~df['total_sqft'].apply(isFloat)]"
   ]
  },
  {
   "cell_type": "code",
   "execution_count": 19,
   "id": "88058dd4",
   "metadata": {},
   "outputs": [],
   "source": [
    "# Converting the range values to integer values and removing other types of error\n",
    "def convert_sqft_to_num(x):\n",
    "    tokens = x.split('-')\n",
    "    if len(tokens) == 2:\n",
    "        return (float(tokens[0])+float(tokens[1]))/2\n",
    "    try:\n",
    "        return float(x)\n",
    "    except:\n",
    "        return None"
   ]
  },
  {
   "cell_type": "code",
   "execution_count": 20,
   "id": "df643f66",
   "metadata": {},
   "outputs": [
    {
     "data": {
      "text/html": [
       "<div>\n",
       "<style scoped>\n",
       "    .dataframe tbody tr th:only-of-type {\n",
       "        vertical-align: middle;\n",
       "    }\n",
       "\n",
       "    .dataframe tbody tr th {\n",
       "        vertical-align: top;\n",
       "    }\n",
       "\n",
       "    .dataframe thead th {\n",
       "        text-align: right;\n",
       "    }\n",
       "</style>\n",
       "<table border=\"1\" class=\"dataframe\">\n",
       "  <thead>\n",
       "    <tr style=\"text-align: right;\">\n",
       "      <th></th>\n",
       "      <th>area_type</th>\n",
       "      <th>availability</th>\n",
       "      <th>bath</th>\n",
       "      <th>balcony</th>\n",
       "      <th>price</th>\n",
       "      <th>site_location</th>\n",
       "      <th>bhk</th>\n",
       "      <th>new_total_sqft</th>\n",
       "    </tr>\n",
       "  </thead>\n",
       "  <tbody>\n",
       "    <tr>\n",
       "      <th>0</th>\n",
       "      <td>Super built-up  Area</td>\n",
       "      <td>19-Dec</td>\n",
       "      <td>2.0</td>\n",
       "      <td>1.0</td>\n",
       "      <td>39.07</td>\n",
       "      <td>Alandi Road</td>\n",
       "      <td>2</td>\n",
       "      <td>1056.0</td>\n",
       "    </tr>\n",
       "    <tr>\n",
       "      <th>1</th>\n",
       "      <td>Plot  Area</td>\n",
       "      <td>Ready To Move</td>\n",
       "      <td>5.0</td>\n",
       "      <td>3.0</td>\n",
       "      <td>120.00</td>\n",
       "      <td>Ambegaon Budruk</td>\n",
       "      <td>4</td>\n",
       "      <td>2600.0</td>\n",
       "    </tr>\n",
       "    <tr>\n",
       "      <th>2</th>\n",
       "      <td>Built-up  Area</td>\n",
       "      <td>Ready To Move</td>\n",
       "      <td>2.0</td>\n",
       "      <td>3.0</td>\n",
       "      <td>62.00</td>\n",
       "      <td>Anandnagar</td>\n",
       "      <td>3</td>\n",
       "      <td>1440.0</td>\n",
       "    </tr>\n",
       "    <tr>\n",
       "      <th>3</th>\n",
       "      <td>Super built-up  Area</td>\n",
       "      <td>Ready To Move</td>\n",
       "      <td>3.0</td>\n",
       "      <td>1.0</td>\n",
       "      <td>95.00</td>\n",
       "      <td>Aundh</td>\n",
       "      <td>3</td>\n",
       "      <td>1521.0</td>\n",
       "    </tr>\n",
       "    <tr>\n",
       "      <th>4</th>\n",
       "      <td>Super built-up  Area</td>\n",
       "      <td>Ready To Move</td>\n",
       "      <td>2.0</td>\n",
       "      <td>1.0</td>\n",
       "      <td>51.00</td>\n",
       "      <td>Aundh Road</td>\n",
       "      <td>2</td>\n",
       "      <td>1200.0</td>\n",
       "    </tr>\n",
       "  </tbody>\n",
       "</table>\n",
       "</div>"
      ],
      "text/plain": [
       "              area_type   availability  bath  balcony   price  \\\n",
       "0  Super built-up  Area         19-Dec   2.0      1.0   39.07   \n",
       "1            Plot  Area  Ready To Move   5.0      3.0  120.00   \n",
       "2        Built-up  Area  Ready To Move   2.0      3.0   62.00   \n",
       "3  Super built-up  Area  Ready To Move   3.0      1.0   95.00   \n",
       "4  Super built-up  Area  Ready To Move   2.0      1.0   51.00   \n",
       "\n",
       "     site_location  bhk  new_total_sqft  \n",
       "0      Alandi Road    2          1056.0  \n",
       "1  Ambegaon Budruk    4          2600.0  \n",
       "2       Anandnagar    3          1440.0  \n",
       "3            Aundh    3          1521.0  \n",
       "4       Aundh Road    2          1200.0  "
      ]
     },
     "execution_count": 20,
     "metadata": {},
     "output_type": "execute_result"
    }
   ],
   "source": [
    "df['new_total_sqft'] = df.total_sqft.apply(convert_sqft_to_num)\n",
    "df = df.drop('total_sqft', axis='columns')\n",
    "df.head()"
   ]
  },
  {
   "cell_type": "code",
   "execution_count": 21,
   "id": "9fe5c949",
   "metadata": {},
   "outputs": [
    {
     "data": {
      "text/plain": [
       "area_type          0\n",
       "availability       0\n",
       "bath               0\n",
       "balcony            0\n",
       "price              0\n",
       "site_location      0\n",
       "bhk                0\n",
       "new_total_sqft    46\n",
       "dtype: int64"
      ]
     },
     "execution_count": 21,
     "metadata": {},
     "output_type": "execute_result"
    }
   ],
   "source": [
    "# Removing the rows in new_total_sqft column that hase None values\n",
    "df.isna().sum()"
   ]
  },
  {
   "cell_type": "code",
   "execution_count": 22,
   "id": "9456c756",
   "metadata": {},
   "outputs": [
    {
     "data": {
      "text/html": [
       "<div>\n",
       "<style scoped>\n",
       "    .dataframe tbody tr th:only-of-type {\n",
       "        vertical-align: middle;\n",
       "    }\n",
       "\n",
       "    .dataframe tbody tr th {\n",
       "        vertical-align: top;\n",
       "    }\n",
       "\n",
       "    .dataframe thead th {\n",
       "        text-align: right;\n",
       "    }\n",
       "</style>\n",
       "<table border=\"1\" class=\"dataframe\">\n",
       "  <thead>\n",
       "    <tr style=\"text-align: right;\">\n",
       "      <th></th>\n",
       "      <th>area_type</th>\n",
       "      <th>availability</th>\n",
       "      <th>bath</th>\n",
       "      <th>balcony</th>\n",
       "      <th>price</th>\n",
       "      <th>site_location</th>\n",
       "      <th>bhk</th>\n",
       "      <th>new_total_sqft</th>\n",
       "      <th>price_per_sqft</th>\n",
       "    </tr>\n",
       "  </thead>\n",
       "  <tbody>\n",
       "    <tr>\n",
       "      <th>0</th>\n",
       "      <td>Super built-up  Area</td>\n",
       "      <td>19-Dec</td>\n",
       "      <td>2.0</td>\n",
       "      <td>1.0</td>\n",
       "      <td>39.07</td>\n",
       "      <td>Alandi Road</td>\n",
       "      <td>2</td>\n",
       "      <td>1056.0</td>\n",
       "      <td>3699.810606</td>\n",
       "    </tr>\n",
       "    <tr>\n",
       "      <th>1</th>\n",
       "      <td>Plot  Area</td>\n",
       "      <td>Ready To Move</td>\n",
       "      <td>5.0</td>\n",
       "      <td>3.0</td>\n",
       "      <td>120.00</td>\n",
       "      <td>Ambegaon Budruk</td>\n",
       "      <td>4</td>\n",
       "      <td>2600.0</td>\n",
       "      <td>4615.384615</td>\n",
       "    </tr>\n",
       "    <tr>\n",
       "      <th>2</th>\n",
       "      <td>Built-up  Area</td>\n",
       "      <td>Ready To Move</td>\n",
       "      <td>2.0</td>\n",
       "      <td>3.0</td>\n",
       "      <td>62.00</td>\n",
       "      <td>Anandnagar</td>\n",
       "      <td>3</td>\n",
       "      <td>1440.0</td>\n",
       "      <td>4305.555556</td>\n",
       "    </tr>\n",
       "    <tr>\n",
       "      <th>3</th>\n",
       "      <td>Super built-up  Area</td>\n",
       "      <td>Ready To Move</td>\n",
       "      <td>3.0</td>\n",
       "      <td>1.0</td>\n",
       "      <td>95.00</td>\n",
       "      <td>Aundh</td>\n",
       "      <td>3</td>\n",
       "      <td>1521.0</td>\n",
       "      <td>6245.890861</td>\n",
       "    </tr>\n",
       "    <tr>\n",
       "      <th>4</th>\n",
       "      <td>Super built-up  Area</td>\n",
       "      <td>Ready To Move</td>\n",
       "      <td>2.0</td>\n",
       "      <td>1.0</td>\n",
       "      <td>51.00</td>\n",
       "      <td>Aundh Road</td>\n",
       "      <td>2</td>\n",
       "      <td>1200.0</td>\n",
       "      <td>4250.000000</td>\n",
       "    </tr>\n",
       "  </tbody>\n",
       "</table>\n",
       "</div>"
      ],
      "text/plain": [
       "              area_type   availability  bath  balcony   price  \\\n",
       "0  Super built-up  Area         19-Dec   2.0      1.0   39.07   \n",
       "1            Plot  Area  Ready To Move   5.0      3.0  120.00   \n",
       "2        Built-up  Area  Ready To Move   2.0      3.0   62.00   \n",
       "3  Super built-up  Area  Ready To Move   3.0      1.0   95.00   \n",
       "4  Super built-up  Area  Ready To Move   2.0      1.0   51.00   \n",
       "\n",
       "     site_location  bhk  new_total_sqft  price_per_sqft  \n",
       "0      Alandi Road    2          1056.0     3699.810606  \n",
       "1  Ambegaon Budruk    4          2600.0     4615.384615  \n",
       "2       Anandnagar    3          1440.0     4305.555556  \n",
       "3            Aundh    3          1521.0     6245.890861  \n",
       "4       Aundh Road    2          1200.0     4250.000000  "
      ]
     },
     "execution_count": 22,
     "metadata": {},
     "output_type": "execute_result"
    }
   ],
   "source": [
    "#Feature Engineering\n",
    "# Adding a new column of price_per_sqft\n",
    "df1 = df.copy()\n",
    "\n",
    "# In our dataset the price column is in Lakhs\n",
    "df1['price_per_sqft'] = (df1['price']*100000)/df1['new_total_sqft']\n",
    "df1.head()"
   ]
  },
  {
   "cell_type": "code",
   "execution_count": 23,
   "id": "8f2b7b13",
   "metadata": {},
   "outputs": [
    {
     "name": "stdout",
     "output_type": "stream",
     "text": [
      "97\n"
     ]
    }
   ],
   "source": [
    "# Checking unique values of 'location' column\n",
    "locations = list(df['site_location'].unique())\n",
    "print(len(locations))"
   ]
  },
  {
   "cell_type": "code",
   "execution_count": 24,
   "id": "9711e3a9",
   "metadata": {},
   "outputs": [
    {
     "data": {
      "text/plain": [
       "site_location\n",
       "Alandi Road             139\n",
       "Mangalwar peth          139\n",
       "Jangali Maharaj Road    139\n",
       "Kalyani Nagar           139\n",
       "Karve Nagar             139\n",
       "                       ... \n",
       "Satara Road             137\n",
       "Uruli Devachi           137\n",
       "Sadashiv Peth           137\n",
       "Sahakar Nagar           137\n",
       "other                     1\n",
       "Name: site_location, Length: 97, dtype: int64"
      ]
     },
     "execution_count": 24,
     "metadata": {},
     "output_type": "execute_result"
    }
   ],
   "source": [
    "# Removing the extra spaces at the end\n",
    "df1.site_location = df1.site_location.apply(lambda x: x.strip())\n",
    "\n",
    "# Calulating all the unqiue values in 'site_location' column\n",
    "location_stats = df1.groupby('site_location')['site_location'].agg('count').sort_values(ascending=False)\n",
    "location_stats"
   ]
  },
  {
   "cell_type": "code",
   "execution_count": 25,
   "id": "0894a62b",
   "metadata": {},
   "outputs": [
    {
     "name": "stdout",
     "output_type": "stream",
     "text": [
      "1 97\n"
     ]
    }
   ],
   "source": [
    "# Checking locations with less than 10 values\n",
    "print(len(location_stats[location_stats<=10]), len(df1.site_location.unique()))"
   ]
  },
  {
   "cell_type": "code",
   "execution_count": 26,
   "id": "343ec68c",
   "metadata": {},
   "outputs": [
    {
     "data": {
      "text/html": [
       "<div>\n",
       "<style scoped>\n",
       "    .dataframe tbody tr th:only-of-type {\n",
       "        vertical-align: middle;\n",
       "    }\n",
       "\n",
       "    .dataframe tbody tr th {\n",
       "        vertical-align: top;\n",
       "    }\n",
       "\n",
       "    .dataframe thead th {\n",
       "        text-align: right;\n",
       "    }\n",
       "</style>\n",
       "<table border=\"1\" class=\"dataframe\">\n",
       "  <thead>\n",
       "    <tr style=\"text-align: right;\">\n",
       "      <th></th>\n",
       "      <th>area_type</th>\n",
       "      <th>availability</th>\n",
       "      <th>bath</th>\n",
       "      <th>balcony</th>\n",
       "      <th>price</th>\n",
       "      <th>site_location</th>\n",
       "      <th>bhk</th>\n",
       "      <th>new_total_sqft</th>\n",
       "      <th>price_per_sqft</th>\n",
       "    </tr>\n",
       "  </thead>\n",
       "  <tbody>\n",
       "    <tr>\n",
       "      <th>0</th>\n",
       "      <td>Super built-up  Area</td>\n",
       "      <td>19-Dec</td>\n",
       "      <td>2.0</td>\n",
       "      <td>1.0</td>\n",
       "      <td>39.07</td>\n",
       "      <td>Alandi Road</td>\n",
       "      <td>2</td>\n",
       "      <td>1056.0</td>\n",
       "      <td>3699.810606</td>\n",
       "    </tr>\n",
       "    <tr>\n",
       "      <th>1</th>\n",
       "      <td>Plot  Area</td>\n",
       "      <td>Ready To Move</td>\n",
       "      <td>5.0</td>\n",
       "      <td>3.0</td>\n",
       "      <td>120.00</td>\n",
       "      <td>Ambegaon Budruk</td>\n",
       "      <td>4</td>\n",
       "      <td>2600.0</td>\n",
       "      <td>4615.384615</td>\n",
       "    </tr>\n",
       "    <tr>\n",
       "      <th>2</th>\n",
       "      <td>Built-up  Area</td>\n",
       "      <td>Ready To Move</td>\n",
       "      <td>2.0</td>\n",
       "      <td>3.0</td>\n",
       "      <td>62.00</td>\n",
       "      <td>Anandnagar</td>\n",
       "      <td>3</td>\n",
       "      <td>1440.0</td>\n",
       "      <td>4305.555556</td>\n",
       "    </tr>\n",
       "    <tr>\n",
       "      <th>3</th>\n",
       "      <td>Super built-up  Area</td>\n",
       "      <td>Ready To Move</td>\n",
       "      <td>3.0</td>\n",
       "      <td>1.0</td>\n",
       "      <td>95.00</td>\n",
       "      <td>Aundh</td>\n",
       "      <td>3</td>\n",
       "      <td>1521.0</td>\n",
       "      <td>6245.890861</td>\n",
       "    </tr>\n",
       "    <tr>\n",
       "      <th>4</th>\n",
       "      <td>Super built-up  Area</td>\n",
       "      <td>Ready To Move</td>\n",
       "      <td>2.0</td>\n",
       "      <td>1.0</td>\n",
       "      <td>51.00</td>\n",
       "      <td>Aundh Road</td>\n",
       "      <td>2</td>\n",
       "      <td>1200.0</td>\n",
       "      <td>4250.000000</td>\n",
       "    </tr>\n",
       "  </tbody>\n",
       "</table>\n",
       "</div>"
      ],
      "text/plain": [
       "              area_type   availability  bath  balcony   price  \\\n",
       "0  Super built-up  Area         19-Dec   2.0      1.0   39.07   \n",
       "1            Plot  Area  Ready To Move   5.0      3.0  120.00   \n",
       "2        Built-up  Area  Ready To Move   2.0      3.0   62.00   \n",
       "3  Super built-up  Area  Ready To Move   3.0      1.0   95.00   \n",
       "4  Super built-up  Area  Ready To Move   2.0      1.0   51.00   \n",
       "\n",
       "     site_location  bhk  new_total_sqft  price_per_sqft  \n",
       "0      Alandi Road    2          1056.0     3699.810606  \n",
       "1  Ambegaon Budruk    4          2600.0     4615.384615  \n",
       "2       Anandnagar    3          1440.0     4305.555556  \n",
       "3            Aundh    3          1521.0     6245.890861  \n",
       "4       Aundh Road    2          1200.0     4250.000000  "
      ]
     },
     "execution_count": 26,
     "metadata": {},
     "output_type": "execute_result"
    }
   ],
   "source": [
    "df1.head()"
   ]
  },
  {
   "cell_type": "code",
   "execution_count": 27,
   "id": "39f91ccf",
   "metadata": {},
   "outputs": [
    {
     "data": {
      "text/plain": [
       "97"
      ]
     },
     "execution_count": 27,
     "metadata": {},
     "output_type": "execute_result"
    }
   ],
   "source": [
    "# Labelling the locations with less than or equal to 10 occurences to 'other'\n",
    "locations_less_than_10 = location_stats[location_stats<=10]\n",
    "\n",
    "df1.site_location = df1.site_location.apply(lambda x: 'other' if x in locations_less_than_10 else x)\n",
    "len(df1.site_location.unique())"
   ]
  },
  {
   "cell_type": "code",
   "execution_count": 28,
   "id": "38cbae71",
   "metadata": {},
   "outputs": [
    {
     "data": {
      "text/plain": [
       "availability\n",
       "Ready To Move    10580\n",
       "18-Dec             307\n",
       "18-May             295\n",
       "18-Apr             271\n",
       "18-Aug             200\n",
       "                 ...  \n",
       "16-Oct               1\n",
       "16-Nov               1\n",
       "16-Jul               1\n",
       "16-Jan               1\n",
       "14-Jul               1\n",
       "Name: availability, Length: 80, dtype: int64"
      ]
     },
     "execution_count": 28,
     "metadata": {},
     "output_type": "execute_result"
    }
   ],
   "source": [
    "# Checking the unique values in 'availability column'\n",
    "df1.groupby('availability')['availability'].agg('count').sort_values(ascending=False)"
   ]
  },
  {
   "cell_type": "code",
   "execution_count": 29,
   "id": "c9f71371",
   "metadata": {},
   "outputs": [
    {
     "data": {
      "text/plain": [
       "2"
      ]
     },
     "execution_count": 29,
     "metadata": {},
     "output_type": "execute_result"
    }
   ],
   "source": [
    "# Labelling the dates into Not Ready\n",
    "dates = df1.groupby('availability')['availability'].agg('count').sort_values(ascending=False)\n",
    "\n",
    "dates_not_ready = dates[dates<10000]\n",
    "df1.availability = df1.availability.apply(lambda x: 'Not Ready' if x in dates_not_ready else x)\n",
    "\n",
    "len(df1.availability.unique())"
   ]
  },
  {
   "cell_type": "code",
   "execution_count": 30,
   "id": "46160c12",
   "metadata": {},
   "outputs": [
    {
     "data": {
      "text/html": [
       "<div>\n",
       "<style scoped>\n",
       "    .dataframe tbody tr th:only-of-type {\n",
       "        vertical-align: middle;\n",
       "    }\n",
       "\n",
       "    .dataframe tbody tr th {\n",
       "        vertical-align: top;\n",
       "    }\n",
       "\n",
       "    .dataframe thead th {\n",
       "        text-align: right;\n",
       "    }\n",
       "</style>\n",
       "<table border=\"1\" class=\"dataframe\">\n",
       "  <thead>\n",
       "    <tr style=\"text-align: right;\">\n",
       "      <th></th>\n",
       "      <th>area_type</th>\n",
       "      <th>availability</th>\n",
       "      <th>bath</th>\n",
       "      <th>balcony</th>\n",
       "      <th>price</th>\n",
       "      <th>site_location</th>\n",
       "      <th>bhk</th>\n",
       "      <th>new_total_sqft</th>\n",
       "      <th>price_per_sqft</th>\n",
       "    </tr>\n",
       "  </thead>\n",
       "  <tbody>\n",
       "    <tr>\n",
       "      <th>0</th>\n",
       "      <td>Super built-up  Area</td>\n",
       "      <td>Not Ready</td>\n",
       "      <td>2.0</td>\n",
       "      <td>1.0</td>\n",
       "      <td>39.07</td>\n",
       "      <td>Alandi Road</td>\n",
       "      <td>2</td>\n",
       "      <td>1056.0</td>\n",
       "      <td>3699.810606</td>\n",
       "    </tr>\n",
       "    <tr>\n",
       "      <th>1</th>\n",
       "      <td>Plot  Area</td>\n",
       "      <td>Ready To Move</td>\n",
       "      <td>5.0</td>\n",
       "      <td>3.0</td>\n",
       "      <td>120.00</td>\n",
       "      <td>Ambegaon Budruk</td>\n",
       "      <td>4</td>\n",
       "      <td>2600.0</td>\n",
       "      <td>4615.384615</td>\n",
       "    </tr>\n",
       "    <tr>\n",
       "      <th>2</th>\n",
       "      <td>Built-up  Area</td>\n",
       "      <td>Ready To Move</td>\n",
       "      <td>2.0</td>\n",
       "      <td>3.0</td>\n",
       "      <td>62.00</td>\n",
       "      <td>Anandnagar</td>\n",
       "      <td>3</td>\n",
       "      <td>1440.0</td>\n",
       "      <td>4305.555556</td>\n",
       "    </tr>\n",
       "    <tr>\n",
       "      <th>3</th>\n",
       "      <td>Super built-up  Area</td>\n",
       "      <td>Ready To Move</td>\n",
       "      <td>3.0</td>\n",
       "      <td>1.0</td>\n",
       "      <td>95.00</td>\n",
       "      <td>Aundh</td>\n",
       "      <td>3</td>\n",
       "      <td>1521.0</td>\n",
       "      <td>6245.890861</td>\n",
       "    </tr>\n",
       "    <tr>\n",
       "      <th>4</th>\n",
       "      <td>Super built-up  Area</td>\n",
       "      <td>Ready To Move</td>\n",
       "      <td>2.0</td>\n",
       "      <td>1.0</td>\n",
       "      <td>51.00</td>\n",
       "      <td>Aundh Road</td>\n",
       "      <td>2</td>\n",
       "      <td>1200.0</td>\n",
       "      <td>4250.000000</td>\n",
       "    </tr>\n",
       "  </tbody>\n",
       "</table>\n",
       "</div>"
      ],
      "text/plain": [
       "              area_type   availability  bath  balcony   price  \\\n",
       "0  Super built-up  Area      Not Ready   2.0      1.0   39.07   \n",
       "1            Plot  Area  Ready To Move   5.0      3.0  120.00   \n",
       "2        Built-up  Area  Ready To Move   2.0      3.0   62.00   \n",
       "3  Super built-up  Area  Ready To Move   3.0      1.0   95.00   \n",
       "4  Super built-up  Area  Ready To Move   2.0      1.0   51.00   \n",
       "\n",
       "     site_location  bhk  new_total_sqft  price_per_sqft  \n",
       "0      Alandi Road    2          1056.0     3699.810606  \n",
       "1  Ambegaon Budruk    4          2600.0     4615.384615  \n",
       "2       Anandnagar    3          1440.0     4305.555556  \n",
       "3            Aundh    3          1521.0     6245.890861  \n",
       "4       Aundh Road    2          1200.0     4250.000000  "
      ]
     },
     "execution_count": 30,
     "metadata": {},
     "output_type": "execute_result"
    }
   ],
   "source": [
    "df1.head()"
   ]
  },
  {
   "cell_type": "code",
   "execution_count": 31,
   "id": "2c2b830b",
   "metadata": {},
   "outputs": [
    {
     "data": {
      "text/plain": [
       "area_type\n",
       "Super built-up  Area    8789\n",
       "Built-up  Area          2418\n",
       "Plot  Area              2009\n",
       "Carpet  Area              87\n",
       "Name: area_type, dtype: int64"
      ]
     },
     "execution_count": 31,
     "metadata": {},
     "output_type": "execute_result"
    }
   ],
   "source": [
    "# Checking the unique values in 'area_type' column\n",
    "df1.groupby('area_type')['area_type'].agg('count').sort_values(ascending=False)\n",
    "\n",
    "# Since the column has only few unique values, we don't perform any operation"
   ]
  },
  {
   "cell_type": "code",
   "execution_count": 32,
   "id": "82e450b5",
   "metadata": {},
   "outputs": [
    {
     "data": {
      "text/plain": [
       "area_type\n",
       "Super built-up  Area    8789\n",
       "Built-up  Area          2418\n",
       "Plot  Area              2009\n",
       "Carpet  Area              87\n",
       "Name: area_type, dtype: int64"
      ]
     },
     "execution_count": 32,
     "metadata": {},
     "output_type": "execute_result"
    }
   ],
   "source": [
    "# Checking the unique values in 'area_type' column\n",
    "df1.groupby('area_type')['area_type'].agg('count').sort_values(ascending=False)\n",
    "\n",
    "# Since the column has only few unique values, we don't perform any operation"
   ]
  },
  {
   "cell_type": "code",
   "execution_count": 34,
   "id": "81614929",
   "metadata": {},
   "outputs": [
    {
     "name": "stdout",
     "output_type": "stream",
     "text": [
      "12559 13303\n"
     ]
    }
   ],
   "source": [
    "#Removing Outliers\n",
    "# Removing the rows that have 1 Room for less than 300sqft\n",
    "\n",
    "df2 = df1[~(df1.new_total_sqft/df1.bhk<300)]\n",
    "print(len(df2), len(df1))"
   ]
  },
  {
   "cell_type": "code",
   "execution_count": 35,
   "id": "dc64b236",
   "metadata": {},
   "outputs": [
    {
     "data": {
      "text/plain": [
       "count     12513.000000\n",
       "mean       6307.567166\n",
       "std        4160.879784\n",
       "min         267.829813\n",
       "25%        4211.469534\n",
       "50%        5295.138889\n",
       "75%        6916.666667\n",
       "max      176470.588235\n",
       "Name: price_per_sqft, dtype: float64"
      ]
     },
     "execution_count": 35,
     "metadata": {},
     "output_type": "execute_result"
    }
   ],
   "source": [
    "df2.price_per_sqft.describe()"
   ]
  },
  {
   "cell_type": "code",
   "execution_count": 36,
   "id": "06cf7644",
   "metadata": {},
   "outputs": [
    {
     "name": "stdout",
     "output_type": "stream",
     "text": [
      "12559 10937\n"
     ]
    }
   ],
   "source": [
    "# Since there is a wide range for 'price_per_sqft' column with min = Rs.267/sqft till max = Rs. 127470/sqft, we remove the extreme ends using the SD\n",
    "def remove_pps_outliers(df):\n",
    "    \n",
    "    df_out = pd.DataFrame()\n",
    "    \n",
    "    for key, sub_df in df.groupby('site_location'):\n",
    "        m = np.mean(sub_df.price_per_sqft)\n",
    "        sd = np.std(sub_df.price_per_sqft)\n",
    "        reduce_df = sub_df[(sub_df.price_per_sqft>(m-sd)) & (sub_df.price_per_sqft<(m+sd))]\n",
    "        df_out = pd.concat([df_out, reduce_df], ignore_index=True)\n",
    "    \n",
    "    return df_out\n",
    "\n",
    "df3 = remove_pps_outliers(df2)\n",
    "print(len(df2), len(df3))"
   ]
  },
  {
   "cell_type": "code",
   "execution_count": 37,
   "id": "341f1dda",
   "metadata": {},
   "outputs": [
    {
     "data": {
      "image/png": "[encoded data removed]",
      "text/plain": [
       "<Figure size 1080x720 with 1 Axes>"
      ]
     },
     "metadata": {
      "needs_background": "light"
     },
     "output_type": "display_data"
    }
   ],
   "source": [
    "def plot_scatter_chart(df, site_location):\n",
    "    bhk2 = df[(df.site_location == site_location) & (df.bhk == 2)]\n",
    "    bhk3 = df[(df.site_location == site_location) & (df.bhk == 3)]\n",
    "    rcP['figure.figsize'] = (15,10)\n",
    "    plt.scatter(bhk2.new_total_sqft, bhk2.price, color='blue', label='2 BHK', s=50)\n",
    "    plt.scatter(bhk3.new_total_sqft, bhk3.price, color='green', marker='+', label='3 BHK', s=50)\n",
    "    plt.xlabel('Total Square Feet Area')\n",
    "    plt.ylabel('Price (in Lakhs)')\n",
    "    plt.title(site_location)\n",
    "    plt.legend()\n",
    "    \n",
    "plot_scatter_chart(df3, 'Hadapsar')"
   ]
  },
  {
   "cell_type": "code",
   "execution_count": 38,
   "id": "1f86e602",
   "metadata": {},
   "outputs": [
    {
     "name": "stdout",
     "output_type": "stream",
     "text": [
      "10937 7459\n"
     ]
    }
   ],
   "source": [
    "# Here we observe that 3 BHK cost that same as 2 BHK in 'Hebbal' location hence removing such outliers is necessary\n",
    "def remove_bhk_outliers(df):\n",
    "    exclude_indices = np.array([])\n",
    "    \n",
    "    for site_location, site_location_df in df.groupby('site_location'):\n",
    "        bhk_stats = {}\n",
    "        \n",
    "        for bhk, bhk_df in site_location_df.groupby('bhk'):\n",
    "            bhk_stats[bhk] = {\n",
    "                'mean': np.mean(bhk_df.price_per_sqft),\n",
    "                'std': np.std(bhk_df.price_per_sqft),\n",
    "                'count': bhk_df.shape[0]\n",
    "            }\n",
    "        \n",
    "        for bhk, bhk_df in site_location_df.groupby('bhk'):\n",
    "            stats = bhk_stats.get(bhk-1)\n",
    "            if stats and stats['count']>5:\n",
    "                exclude_indices = np.append(exclude_indices, bhk_df[bhk_df.price_per_sqft<(stats['mean'])].index.values)\n",
    "    \n",
    "    return df.drop(exclude_indices, axis='index')\n",
    "\n",
    "df4 = remove_bhk_outliers(df3)\n",
    "print(len(df3), len(df4))"
   ]
  },
  {
   "cell_type": "code",
   "execution_count": 39,
   "id": "5af9b75f",
   "metadata": {},
   "outputs": [
    {
     "data": {
      "image/png": "[encoded data removed]",
      "text/plain": [
       "<Figure size 1080x720 with 1 Axes>"
      ]
     },
     "metadata": {
      "needs_background": "light"
     },
     "output_type": "display_data"
    }
   ],
   "source": [
    "plot_scatter_chart(df4, 'Hadapsar')"
   ]
  },
  {
   "cell_type": "code",
   "execution_count": 40,
   "id": "bb55598a",
   "metadata": {},
   "outputs": [
    {
     "data": {
      "text/plain": [
       "Text(0, 0.5, 'Count')"
      ]
     },
     "execution_count": 40,
     "metadata": {},
     "output_type": "execute_result"
    },
    {
     "data": {
      "image/png": "[encoded data removed]",
      "text/plain": [
       "<Figure size 1080x720 with 1 Axes>"
      ]
     },
     "metadata": {
      "needs_background": "light"
     },
     "output_type": "display_data"
    }
   ],
   "source": [
    "plt.hist(df4.price_per_sqft, rwidth=0.5)\n",
    "plt.xlabel('Price Per Square Feet')\n",
    "plt.ylabel('Count')"
   ]
  },
  {
   "cell_type": "code",
   "execution_count": 41,
   "id": "1aade794",
   "metadata": {},
   "outputs": [
    {
     "data": {
      "text/plain": [
       "Text(0, 0.5, 'Count')"
      ]
     },
     "execution_count": 41,
     "metadata": {},
     "output_type": "execute_result"
    },
    {
     "data": {
      "image/png": "[encoded data removed]",
      "text/plain": [
       "<Figure size 1080x720 with 1 Axes>"
      ]
     },
     "metadata": {
      "needs_background": "light"
     },
     "output_type": "display_data"
    }
   ],
   "source": [
    "plt.hist(df4.bath, rwidth=0.5)\n",
    "plt.xlabel('Number of Bathrooms')\n",
    "plt.ylabel('Count')"
   ]
  },
  {
   "cell_type": "code",
   "execution_count": 42,
   "id": "0cfb091d",
   "metadata": {},
   "outputs": [
    {
     "name": "stdout",
     "output_type": "stream",
     "text": [
      "7459 7395\n"
     ]
    }
   ],
   "source": [
    "# Removing the rows that have 'bath' greater than 'bhk'+2\n",
    "df5 = df4[df4.bath<(df4.bhk+2)]\n",
    "print(len(df4), len(df5))"
   ]
  },
  {
   "cell_type": "code",
   "execution_count": 43,
   "id": "fec4d030",
   "metadata": {},
   "outputs": [
    {
     "data": {
      "text/html": [
       "<div>\n",
       "<style scoped>\n",
       "    .dataframe tbody tr th:only-of-type {\n",
       "        vertical-align: middle;\n",
       "    }\n",
       "\n",
       "    .dataframe tbody tr th {\n",
       "        vertical-align: top;\n",
       "    }\n",
       "\n",
       "    .dataframe thead th {\n",
       "        text-align: right;\n",
       "    }\n",
       "</style>\n",
       "<table border=\"1\" class=\"dataframe\">\n",
       "  <thead>\n",
       "    <tr style=\"text-align: right;\">\n",
       "      <th></th>\n",
       "      <th>area_type</th>\n",
       "      <th>availability</th>\n",
       "      <th>bath</th>\n",
       "      <th>balcony</th>\n",
       "      <th>price</th>\n",
       "      <th>site_location</th>\n",
       "      <th>bhk</th>\n",
       "      <th>new_total_sqft</th>\n",
       "      <th>price_per_sqft</th>\n",
       "    </tr>\n",
       "  </thead>\n",
       "  <tbody>\n",
       "    <tr>\n",
       "      <th>10923</th>\n",
       "      <td>Super built-up  Area</td>\n",
       "      <td>Not Ready</td>\n",
       "      <td>2.0</td>\n",
       "      <td>1.0</td>\n",
       "      <td>67.0</td>\n",
       "      <td>Yerawada</td>\n",
       "      <td>2</td>\n",
       "      <td>1165.0</td>\n",
       "      <td>5751.072961</td>\n",
       "    </tr>\n",
       "    <tr>\n",
       "      <th>10928</th>\n",
       "      <td>Built-up  Area</td>\n",
       "      <td>Ready To Move</td>\n",
       "      <td>6.0</td>\n",
       "      <td>2.0</td>\n",
       "      <td>115.0</td>\n",
       "      <td>Yerawada</td>\n",
       "      <td>6</td>\n",
       "      <td>3500.0</td>\n",
       "      <td>3285.714286</td>\n",
       "    </tr>\n",
       "    <tr>\n",
       "      <th>10931</th>\n",
       "      <td>Built-up  Area</td>\n",
       "      <td>Not Ready</td>\n",
       "      <td>2.0</td>\n",
       "      <td>2.0</td>\n",
       "      <td>353.0</td>\n",
       "      <td>Yerawada</td>\n",
       "      <td>5</td>\n",
       "      <td>3210.0</td>\n",
       "      <td>10996.884735</td>\n",
       "    </tr>\n",
       "    <tr>\n",
       "      <th>10932</th>\n",
       "      <td>Super built-up  Area</td>\n",
       "      <td>Ready To Move</td>\n",
       "      <td>2.0</td>\n",
       "      <td>2.0</td>\n",
       "      <td>54.0</td>\n",
       "      <td>Yerawada</td>\n",
       "      <td>2</td>\n",
       "      <td>1050.0</td>\n",
       "      <td>5142.857143</td>\n",
       "    </tr>\n",
       "    <tr>\n",
       "      <th>10936</th>\n",
       "      <td>Super built-up  Area</td>\n",
       "      <td>Not Ready</td>\n",
       "      <td>2.0</td>\n",
       "      <td>1.0</td>\n",
       "      <td>70.0</td>\n",
       "      <td>Yerawada</td>\n",
       "      <td>2</td>\n",
       "      <td>1132.0</td>\n",
       "      <td>6183.745583</td>\n",
       "    </tr>\n",
       "  </tbody>\n",
       "</table>\n",
       "</div>"
      ],
      "text/plain": [
       "                  area_type   availability  bath  balcony  price  \\\n",
       "10923  Super built-up  Area      Not Ready   2.0      1.0   67.0   \n",
       "10928        Built-up  Area  Ready To Move   6.0      2.0  115.0   \n",
       "10931        Built-up  Area      Not Ready   2.0      2.0  353.0   \n",
       "10932  Super built-up  Area  Ready To Move   2.0      2.0   54.0   \n",
       "10936  Super built-up  Area      Not Ready   2.0      1.0   70.0   \n",
       "\n",
       "      site_location  bhk  new_total_sqft  price_per_sqft  \n",
       "10923      Yerawada    2          1165.0     5751.072961  \n",
       "10928      Yerawada    6          3500.0     3285.714286  \n",
       "10931      Yerawada    5          3210.0    10996.884735  \n",
       "10932      Yerawada    2          1050.0     5142.857143  \n",
       "10936      Yerawada    2          1132.0     6183.745583  "
      ]
     },
     "execution_count": 43,
     "metadata": {},
     "output_type": "execute_result"
    }
   ],
   "source": [
    "df5.tail()"
   ]
  },
  {
   "cell_type": "code",
   "execution_count": 45,
   "id": "1dc7e095",
   "metadata": {},
   "outputs": [],
   "source": [
    "#Model Building\n",
    "# Removing the unnecessary columns (columns that were added only for removing the outliers)\n",
    "df6 = df5.copy()\n",
    "df6 = df6.drop('price_per_sqft', axis='columns')"
   ]
  },
  {
   "cell_type": "code",
   "execution_count": 46,
   "id": "899f25c6",
   "metadata": {},
   "outputs": [
    {
     "data": {
      "text/html": [
       "<div>\n",
       "<style scoped>\n",
       "    .dataframe tbody tr th:only-of-type {\n",
       "        vertical-align: middle;\n",
       "    }\n",
       "\n",
       "    .dataframe tbody tr th {\n",
       "        vertical-align: top;\n",
       "    }\n",
       "\n",
       "    .dataframe thead th {\n",
       "        text-align: right;\n",
       "    }\n",
       "</style>\n",
       "<table border=\"1\" class=\"dataframe\">\n",
       "  <thead>\n",
       "    <tr style=\"text-align: right;\">\n",
       "      <th></th>\n",
       "      <th>area_type</th>\n",
       "      <th>availability</th>\n",
       "      <th>bath</th>\n",
       "      <th>balcony</th>\n",
       "      <th>price</th>\n",
       "      <th>site_location</th>\n",
       "      <th>bhk</th>\n",
       "      <th>new_total_sqft</th>\n",
       "    </tr>\n",
       "  </thead>\n",
       "  <tbody>\n",
       "    <tr>\n",
       "      <th>0</th>\n",
       "      <td>Super built-up  Area</td>\n",
       "      <td>Not Ready</td>\n",
       "      <td>2.0</td>\n",
       "      <td>1.0</td>\n",
       "      <td>39.07</td>\n",
       "      <td>Alandi Road</td>\n",
       "      <td>2</td>\n",
       "      <td>1056.0</td>\n",
       "    </tr>\n",
       "    <tr>\n",
       "      <th>1</th>\n",
       "      <td>Plot  Area</td>\n",
       "      <td>Ready To Move</td>\n",
       "      <td>4.0</td>\n",
       "      <td>1.0</td>\n",
       "      <td>245.00</td>\n",
       "      <td>Alandi Road</td>\n",
       "      <td>4</td>\n",
       "      <td>2894.0</td>\n",
       "    </tr>\n",
       "    <tr>\n",
       "      <th>2</th>\n",
       "      <td>Super built-up  Area</td>\n",
       "      <td>Ready To Move</td>\n",
       "      <td>2.0</td>\n",
       "      <td>2.0</td>\n",
       "      <td>50.00</td>\n",
       "      <td>Alandi Road</td>\n",
       "      <td>2</td>\n",
       "      <td>1084.0</td>\n",
       "    </tr>\n",
       "    <tr>\n",
       "      <th>3</th>\n",
       "      <td>Super built-up  Area</td>\n",
       "      <td>Ready To Move</td>\n",
       "      <td>2.0</td>\n",
       "      <td>2.0</td>\n",
       "      <td>80.00</td>\n",
       "      <td>Alandi Road</td>\n",
       "      <td>2</td>\n",
       "      <td>1230.0</td>\n",
       "    </tr>\n",
       "    <tr>\n",
       "      <th>4</th>\n",
       "      <td>Super built-up  Area</td>\n",
       "      <td>Ready To Move</td>\n",
       "      <td>3.0</td>\n",
       "      <td>2.0</td>\n",
       "      <td>130.00</td>\n",
       "      <td>Alandi Road</td>\n",
       "      <td>3</td>\n",
       "      <td>1750.0</td>\n",
       "    </tr>\n",
       "  </tbody>\n",
       "</table>\n",
       "</div>"
      ],
      "text/plain": [
       "              area_type   availability  bath  balcony   price site_location  \\\n",
       "0  Super built-up  Area      Not Ready   2.0      1.0   39.07   Alandi Road   \n",
       "1            Plot  Area  Ready To Move   4.0      1.0  245.00   Alandi Road   \n",
       "2  Super built-up  Area  Ready To Move   2.0      2.0   50.00   Alandi Road   \n",
       "3  Super built-up  Area  Ready To Move   2.0      2.0   80.00   Alandi Road   \n",
       "4  Super built-up  Area  Ready To Move   3.0      2.0  130.00   Alandi Road   \n",
       "\n",
       "   bhk  new_total_sqft  \n",
       "0    2          1056.0  \n",
       "1    4          2894.0  \n",
       "2    2          1084.0  \n",
       "3    2          1230.0  \n",
       "4    3          1750.0  "
      ]
     },
     "execution_count": 46,
     "metadata": {},
     "output_type": "execute_result"
    }
   ],
   "source": [
    "df6.head()"
   ]
  },
  {
   "cell_type": "code",
   "execution_count": 47,
   "id": "99b9ac80",
   "metadata": {},
   "outputs": [],
   "source": [
    "# Converting the categorical_value into numerical_values using get_dummies method\n",
    "dummy_cols = pd.get_dummies(df6.site_location)\n",
    "df6 = pd.concat([df6,dummy_cols], axis='columns')"
   ]
  },
  {
   "cell_type": "code",
   "execution_count": 48,
   "id": "f7a600fb",
   "metadata": {},
   "outputs": [],
   "source": [
    "# Converting the categorical_value into numerical_values using get_dummies method\n",
    "dummy_cols = pd.get_dummies(df6.availability).drop('Not Ready', axis='columns')\n",
    "df6 = pd.concat([df6,dummy_cols], axis='columns')"
   ]
  },
  {
   "cell_type": "code",
   "execution_count": 49,
   "id": "a1d46322",
   "metadata": {},
   "outputs": [],
   "source": [
    "# Converting the categorical_value into numerical_values using get_dummies method\n",
    "dummy_cols = pd.get_dummies(df6.area_type).drop('Super built-up  Area', axis='columns')\n",
    "df6 = pd.concat([df6,dummy_cols], axis='columns')"
   ]
  },
  {
   "cell_type": "code",
   "execution_count": 50,
   "id": "f80c381f",
   "metadata": {},
   "outputs": [
    {
     "data": {
      "text/html": [
       "<div>\n",
       "<style scoped>\n",
       "    .dataframe tbody tr th:only-of-type {\n",
       "        vertical-align: middle;\n",
       "    }\n",
       "\n",
       "    .dataframe tbody tr th {\n",
       "        vertical-align: top;\n",
       "    }\n",
       "\n",
       "    .dataframe thead th {\n",
       "        text-align: right;\n",
       "    }\n",
       "</style>\n",
       "<table border=\"1\" class=\"dataframe\">\n",
       "  <thead>\n",
       "    <tr style=\"text-align: right;\">\n",
       "      <th></th>\n",
       "      <th>bath</th>\n",
       "      <th>balcony</th>\n",
       "      <th>price</th>\n",
       "      <th>bhk</th>\n",
       "      <th>new_total_sqft</th>\n",
       "      <th>Alandi Road</th>\n",
       "      <th>Ambegaon Budruk</th>\n",
       "      <th>Anandnagar</th>\n",
       "      <th>Aundh</th>\n",
       "      <th>Aundh Road</th>\n",
       "      <th>...</th>\n",
       "      <th>Wadgaon Sheri</th>\n",
       "      <th>Wagholi</th>\n",
       "      <th>Wakadewadi</th>\n",
       "      <th>Wanowrie</th>\n",
       "      <th>Warje</th>\n",
       "      <th>Yerawada</th>\n",
       "      <th>Ready To Move</th>\n",
       "      <th>Built-up  Area</th>\n",
       "      <th>Carpet  Area</th>\n",
       "      <th>Plot  Area</th>\n",
       "    </tr>\n",
       "  </thead>\n",
       "  <tbody>\n",
       "    <tr>\n",
       "      <th>0</th>\n",
       "      <td>2.0</td>\n",
       "      <td>1.0</td>\n",
       "      <td>39.07</td>\n",
       "      <td>2</td>\n",
       "      <td>1056.0</td>\n",
       "      <td>1</td>\n",
       "      <td>0</td>\n",
       "      <td>0</td>\n",
       "      <td>0</td>\n",
       "      <td>0</td>\n",
       "      <td>...</td>\n",
       "      <td>0</td>\n",
       "      <td>0</td>\n",
       "      <td>0</td>\n",
       "      <td>0</td>\n",
       "      <td>0</td>\n",
       "      <td>0</td>\n",
       "      <td>0</td>\n",
       "      <td>0</td>\n",
       "      <td>0</td>\n",
       "      <td>0</td>\n",
       "    </tr>\n",
       "    <tr>\n",
       "      <th>1</th>\n",
       "      <td>4.0</td>\n",
       "      <td>1.0</td>\n",
       "      <td>245.00</td>\n",
       "      <td>4</td>\n",
       "      <td>2894.0</td>\n",
       "      <td>1</td>\n",
       "      <td>0</td>\n",
       "      <td>0</td>\n",
       "      <td>0</td>\n",
       "      <td>0</td>\n",
       "      <td>...</td>\n",
       "      <td>0</td>\n",
       "      <td>0</td>\n",
       "      <td>0</td>\n",
       "      <td>0</td>\n",
       "      <td>0</td>\n",
       "      <td>0</td>\n",
       "      <td>1</td>\n",
       "      <td>0</td>\n",
       "      <td>0</td>\n",
       "      <td>1</td>\n",
       "    </tr>\n",
       "    <tr>\n",
       "      <th>2</th>\n",
       "      <td>2.0</td>\n",
       "      <td>2.0</td>\n",
       "      <td>50.00</td>\n",
       "      <td>2</td>\n",
       "      <td>1084.0</td>\n",
       "      <td>1</td>\n",
       "      <td>0</td>\n",
       "      <td>0</td>\n",
       "      <td>0</td>\n",
       "      <td>0</td>\n",
       "      <td>...</td>\n",
       "      <td>0</td>\n",
       "      <td>0</td>\n",
       "      <td>0</td>\n",
       "      <td>0</td>\n",
       "      <td>0</td>\n",
       "      <td>0</td>\n",
       "      <td>1</td>\n",
       "      <td>0</td>\n",
       "      <td>0</td>\n",
       "      <td>0</td>\n",
       "    </tr>\n",
       "    <tr>\n",
       "      <th>3</th>\n",
       "      <td>2.0</td>\n",
       "      <td>2.0</td>\n",
       "      <td>80.00</td>\n",
       "      <td>2</td>\n",
       "      <td>1230.0</td>\n",
       "      <td>1</td>\n",
       "      <td>0</td>\n",
       "      <td>0</td>\n",
       "      <td>0</td>\n",
       "      <td>0</td>\n",
       "      <td>...</td>\n",
       "      <td>0</td>\n",
       "      <td>0</td>\n",
       "      <td>0</td>\n",
       "      <td>0</td>\n",
       "      <td>0</td>\n",
       "      <td>0</td>\n",
       "      <td>1</td>\n",
       "      <td>0</td>\n",
       "      <td>0</td>\n",
       "      <td>0</td>\n",
       "    </tr>\n",
       "    <tr>\n",
       "      <th>4</th>\n",
       "      <td>3.0</td>\n",
       "      <td>2.0</td>\n",
       "      <td>130.00</td>\n",
       "      <td>3</td>\n",
       "      <td>1750.0</td>\n",
       "      <td>1</td>\n",
       "      <td>0</td>\n",
       "      <td>0</td>\n",
       "      <td>0</td>\n",
       "      <td>0</td>\n",
       "      <td>...</td>\n",
       "      <td>0</td>\n",
       "      <td>0</td>\n",
       "      <td>0</td>\n",
       "      <td>0</td>\n",
       "      <td>0</td>\n",
       "      <td>0</td>\n",
       "      <td>1</td>\n",
       "      <td>0</td>\n",
       "      <td>0</td>\n",
       "      <td>0</td>\n",
       "    </tr>\n",
       "    <tr>\n",
       "      <th>5</th>\n",
       "      <td>2.0</td>\n",
       "      <td>1.0</td>\n",
       "      <td>41.00</td>\n",
       "      <td>2</td>\n",
       "      <td>995.0</td>\n",
       "      <td>1</td>\n",
       "      <td>0</td>\n",
       "      <td>0</td>\n",
       "      <td>0</td>\n",
       "      <td>0</td>\n",
       "      <td>...</td>\n",
       "      <td>0</td>\n",
       "      <td>0</td>\n",
       "      <td>0</td>\n",
       "      <td>0</td>\n",
       "      <td>0</td>\n",
       "      <td>0</td>\n",
       "      <td>1</td>\n",
       "      <td>1</td>\n",
       "      <td>0</td>\n",
       "      <td>0</td>\n",
       "    </tr>\n",
       "    <tr>\n",
       "      <th>8</th>\n",
       "      <td>2.0</td>\n",
       "      <td>1.0</td>\n",
       "      <td>95.00</td>\n",
       "      <td>2</td>\n",
       "      <td>1360.0</td>\n",
       "      <td>1</td>\n",
       "      <td>0</td>\n",
       "      <td>0</td>\n",
       "      <td>0</td>\n",
       "      <td>0</td>\n",
       "      <td>...</td>\n",
       "      <td>0</td>\n",
       "      <td>0</td>\n",
       "      <td>0</td>\n",
       "      <td>0</td>\n",
       "      <td>0</td>\n",
       "      <td>0</td>\n",
       "      <td>1</td>\n",
       "      <td>0</td>\n",
       "      <td>0</td>\n",
       "      <td>0</td>\n",
       "    </tr>\n",
       "    <tr>\n",
       "      <th>9</th>\n",
       "      <td>2.0</td>\n",
       "      <td>2.0</td>\n",
       "      <td>50.00</td>\n",
       "      <td>2</td>\n",
       "      <td>1040.0</td>\n",
       "      <td>1</td>\n",
       "      <td>0</td>\n",
       "      <td>0</td>\n",
       "      <td>0</td>\n",
       "      <td>0</td>\n",
       "      <td>...</td>\n",
       "      <td>0</td>\n",
       "      <td>0</td>\n",
       "      <td>0</td>\n",
       "      <td>0</td>\n",
       "      <td>0</td>\n",
       "      <td>0</td>\n",
       "      <td>1</td>\n",
       "      <td>1</td>\n",
       "      <td>0</td>\n",
       "      <td>0</td>\n",
       "    </tr>\n",
       "    <tr>\n",
       "      <th>10</th>\n",
       "      <td>3.0</td>\n",
       "      <td>2.0</td>\n",
       "      <td>86.06</td>\n",
       "      <td>3</td>\n",
       "      <td>1655.0</td>\n",
       "      <td>1</td>\n",
       "      <td>0</td>\n",
       "      <td>0</td>\n",
       "      <td>0</td>\n",
       "      <td>0</td>\n",
       "      <td>...</td>\n",
       "      <td>0</td>\n",
       "      <td>0</td>\n",
       "      <td>0</td>\n",
       "      <td>0</td>\n",
       "      <td>0</td>\n",
       "      <td>0</td>\n",
       "      <td>1</td>\n",
       "      <td>0</td>\n",
       "      <td>0</td>\n",
       "      <td>0</td>\n",
       "    </tr>\n",
       "    <tr>\n",
       "      <th>12</th>\n",
       "      <td>5.0</td>\n",
       "      <td>3.0</td>\n",
       "      <td>198.00</td>\n",
       "      <td>4</td>\n",
       "      <td>2790.0</td>\n",
       "      <td>1</td>\n",
       "      <td>0</td>\n",
       "      <td>0</td>\n",
       "      <td>0</td>\n",
       "      <td>0</td>\n",
       "      <td>...</td>\n",
       "      <td>0</td>\n",
       "      <td>0</td>\n",
       "      <td>0</td>\n",
       "      <td>0</td>\n",
       "      <td>0</td>\n",
       "      <td>0</td>\n",
       "      <td>0</td>\n",
       "      <td>0</td>\n",
       "      <td>0</td>\n",
       "      <td>0</td>\n",
       "    </tr>\n",
       "  </tbody>\n",
       "</table>\n",
       "<p>10 rows × 105 columns</p>\n",
       "</div>"
      ],
      "text/plain": [
       "    bath  balcony   price  bhk  new_total_sqft  Alandi Road  Ambegaon Budruk  \\\n",
       "0    2.0      1.0   39.07    2          1056.0            1                0   \n",
       "1    4.0      1.0  245.00    4          2894.0            1                0   \n",
       "2    2.0      2.0   50.00    2          1084.0            1                0   \n",
       "3    2.0      2.0   80.00    2          1230.0            1                0   \n",
       "4    3.0      2.0  130.00    3          1750.0            1                0   \n",
       "5    2.0      1.0   41.00    2           995.0            1                0   \n",
       "8    2.0      1.0   95.00    2          1360.0            1                0   \n",
       "9    2.0      2.0   50.00    2          1040.0            1                0   \n",
       "10   3.0      2.0   86.06    3          1655.0            1                0   \n",
       "12   5.0      3.0  198.00    4          2790.0            1                0   \n",
       "\n",
       "    Anandnagar  Aundh  Aundh Road  ...  Wadgaon Sheri  Wagholi  Wakadewadi  \\\n",
       "0            0      0           0  ...              0        0           0   \n",
       "1            0      0           0  ...              0        0           0   \n",
       "2            0      0           0  ...              0        0           0   \n",
       "3            0      0           0  ...              0        0           0   \n",
       "4            0      0           0  ...              0        0           0   \n",
       "5            0      0           0  ...              0        0           0   \n",
       "8            0      0           0  ...              0        0           0   \n",
       "9            0      0           0  ...              0        0           0   \n",
       "10           0      0           0  ...              0        0           0   \n",
       "12           0      0           0  ...              0        0           0   \n",
       "\n",
       "    Wanowrie  Warje  Yerawada  Ready To Move  Built-up  Area  Carpet  Area  \\\n",
       "0          0      0         0              0               0             0   \n",
       "1          0      0         0              1               0             0   \n",
       "2          0      0         0              1               0             0   \n",
       "3          0      0         0              1               0             0   \n",
       "4          0      0         0              1               0             0   \n",
       "5          0      0         0              1               1             0   \n",
       "8          0      0         0              1               0             0   \n",
       "9          0      0         0              1               1             0   \n",
       "10         0      0         0              1               0             0   \n",
       "12         0      0         0              0               0             0   \n",
       "\n",
       "    Plot  Area  \n",
       "0            0  \n",
       "1            1  \n",
       "2            0  \n",
       "3            0  \n",
       "4            0  \n",
       "5            0  \n",
       "8            0  \n",
       "9            0  \n",
       "10           0  \n",
       "12           0  \n",
       "\n",
       "[10 rows x 105 columns]"
      ]
     },
     "execution_count": 50,
     "metadata": {},
     "output_type": "execute_result"
    }
   ],
   "source": [
    "df6.drop(['area_type','availability','site_location'], axis='columns', inplace=True)\n",
    "df6.head(10)"
   ]
  },
  {
   "cell_type": "code",
   "execution_count": 51,
   "id": "5a124921",
   "metadata": {},
   "outputs": [
    {
     "data": {
      "text/plain": [
       "(7395, 105)"
      ]
     },
     "execution_count": 51,
     "metadata": {},
     "output_type": "execute_result"
    }
   ],
   "source": [
    "# Size of the dataset\n",
    "df6.shape"
   ]
  },
  {
   "cell_type": "code",
   "execution_count": 52,
   "id": "842c418c",
   "metadata": {},
   "outputs": [],
   "source": [
    "# Splitting the dataset into features and label\n",
    "X = df6.drop('price', axis='columns')\n",
    "y = df6['price']"
   ]
  },
  {
   "cell_type": "code",
   "execution_count": 53,
   "id": "1271c1db",
   "metadata": {},
   "outputs": [],
   "source": [
    "# Using GridSearchCV to find the best algorithm for this problem\n",
    "from sklearn.model_selection import GridSearchCV\n",
    "from sklearn.model_selection import ShuffleSplit\n",
    "from sklearn.linear_model import LinearRegression\n",
    "from sklearn.linear_model import Lasso\n",
    "from sklearn.tree import DecisionTreeRegressor"
   ]
  },
  {
   "cell_type": "code",
   "execution_count": 54,
   "id": "06e677a0",
   "metadata": {},
   "outputs": [
    {
     "data": {
      "text/html": [
       "<div>\n",
       "<style scoped>\n",
       "    .dataframe tbody tr th:only-of-type {\n",
       "        vertical-align: middle;\n",
       "    }\n",
       "\n",
       "    .dataframe tbody tr th {\n",
       "        vertical-align: top;\n",
       "    }\n",
       "\n",
       "    .dataframe thead th {\n",
       "        text-align: right;\n",
       "    }\n",
       "</style>\n",
       "<table border=\"1\" class=\"dataframe\">\n",
       "  <thead>\n",
       "    <tr style=\"text-align: right;\">\n",
       "      <th></th>\n",
       "      <th>model</th>\n",
       "      <th>best_parameters</th>\n",
       "      <th>accuracy</th>\n",
       "    </tr>\n",
       "  </thead>\n",
       "  <tbody>\n",
       "    <tr>\n",
       "      <th>0</th>\n",
       "      <td>linear_regression</td>\n",
       "      <td>{'normalize': True}</td>\n",
       "      <td>0.835449</td>\n",
       "    </tr>\n",
       "    <tr>\n",
       "      <th>1</th>\n",
       "      <td>lasso</td>\n",
       "      <td>{'alpha': 2, 'selection': 'cyclic'}</td>\n",
       "      <td>0.829241</td>\n",
       "    </tr>\n",
       "    <tr>\n",
       "      <th>2</th>\n",
       "      <td>decision_tree</td>\n",
       "      <td>{'criterion': 'mse', 'splitter': 'best'}</td>\n",
       "      <td>0.779836</td>\n",
       "    </tr>\n",
       "  </tbody>\n",
       "</table>\n",
       "</div>"
      ],
      "text/plain": [
       "               model                           best_parameters  accuracy\n",
       "0  linear_regression                       {'normalize': True}  0.835449\n",
       "1              lasso       {'alpha': 2, 'selection': 'cyclic'}  0.829241\n",
       "2      decision_tree  {'criterion': 'mse', 'splitter': 'best'}  0.779836"
      ]
     },
     "execution_count": 54,
     "metadata": {},
     "output_type": "execute_result"
    }
   ],
   "source": [
    "# Creating a function for GridSearchCV\n",
    "\n",
    "def find_best_model(X, y):\n",
    "    models = {\n",
    "        'linear_regression': {\n",
    "            'model': LinearRegression(),\n",
    "            'parameters': {\n",
    "                'normalize': [True,False]\n",
    "            }\n",
    "        },\n",
    "        \n",
    "        'lasso': {\n",
    "            'model': Lasso(),\n",
    "            'parameters': {\n",
    "                'alpha': [1,2],\n",
    "                'selection': ['random', 'cyclic']\n",
    "            }\n",
    "        },\n",
    "        \n",
    "        'decision_tree': {\n",
    "            'model': DecisionTreeRegressor(),\n",
    "            'parameters': {\n",
    "                'criterion': ['mse', 'friedman_mse'],\n",
    "                'splitter': ['best', 'random']\n",
    "            }\n",
    "        }\n",
    "    }\n",
    "    \n",
    "    scores = []\n",
    "    cv_X_y = ShuffleSplit(n_splits=5, test_size=0.20, random_state=0)\n",
    "    \n",
    "    for model_name, model_params in models.items():\n",
    "        gs = GridSearchCV(model_params['model'], model_params['parameters'], cv=cv_X_y, return_train_score=False)\n",
    "        gs.fit(X, y)\n",
    "        scores.append({\n",
    "            'model': model_name,\n",
    "            'best_parameters': gs.best_params_,\n",
    "            'accuracy': gs.best_score_\n",
    "        })\n",
    "        \n",
    "    return pd.DataFrame(scores, columns=['model', 'best_parameters', 'accuracy'])\n",
    "\n",
    "find_best_model(X, y)"
   ]
  },
  {
   "cell_type": "code",
   "execution_count": 55,
   "id": "7d3e365f",
   "metadata": {},
   "outputs": [],
   "source": [
    "#Since the Linear Regression has the highest accuracy, the model selected for this problem is Linear Regression\n",
    "# Splitting the dataset into train and test set\n",
    "from sklearn.model_selection import train_test_split\n",
    "X_train, X_test, y_train, y_test = train_test_split(X, y, test_size=0.20, random_state=20)"
   ]
  },
  {
   "cell_type": "code",
   "execution_count": 56,
   "id": "17387f7b",
   "metadata": {},
   "outputs": [
    {
     "data": {
      "text/plain": [
       "LinearRegression(normalize=True)"
      ]
     },
     "execution_count": 56,
     "metadata": {},
     "output_type": "execute_result"
    }
   ],
   "source": [
    "# Creating Linear Regression Model\n",
    "from sklearn.linear_model import LinearRegression\n",
    "model = LinearRegression(normalize=True)\n",
    "model.fit(X_train, y_train)"
   ]
  },
  {
   "cell_type": "code",
   "execution_count": 57,
   "id": "1be9e41a",
   "metadata": {},
   "outputs": [
    {
     "data": {
      "text/plain": [
       "0.8180571987758954"
      ]
     },
     "execution_count": 57,
     "metadata": {},
     "output_type": "execute_result"
    }
   ],
   "source": [
    "model.score(X_test, y_test)"
   ]
  },
  {
   "cell_type": "code",
   "execution_count": 58,
   "id": "f4c14b86",
   "metadata": {},
   "outputs": [
    {
     "data": {
      "text/plain": [
       "Index(['bath', 'balcony', 'bhk', 'new_total_sqft', 'Alandi Road',\n",
       "       'Ambegaon Budruk', 'Anandnagar', 'Aundh', 'Aundh Road', 'Balaji Nagar',\n",
       "       ...\n",
       "       'Wadgaon Sheri', 'Wagholi', 'Wakadewadi', 'Wanowrie', 'Warje',\n",
       "       'Yerawada', 'Ready To Move', 'Built-up  Area', 'Carpet  Area',\n",
       "       'Plot  Area'],\n",
       "      dtype='object', length=104)"
      ]
     },
     "execution_count": 58,
     "metadata": {},
     "output_type": "execute_result"
    }
   ],
   "source": [
    "#Predicting the values using our trained model\n",
    "X.columns"
   ]
  },
  {
   "cell_type": "code",
   "execution_count": 59,
   "id": "fd635a32",
   "metadata": {},
   "outputs": [
    {
     "data": {
      "text/plain": [
       "9"
      ]
     },
     "execution_count": 59,
     "metadata": {},
     "output_type": "execute_result"
    }
   ],
   "source": [
    "# For finding the appropriate location\n",
    "np.where(X.columns=='Balaji Nagar')[0][0]"
   ]
  },
  {
   "cell_type": "code",
   "execution_count": 60,
   "id": "b087ea8d",
   "metadata": {},
   "outputs": [
    {
     "data": {
      "text/plain": [
       "101"
      ]
     },
     "execution_count": 60,
     "metadata": {},
     "output_type": "execute_result"
    }
   ],
   "source": [
    "# For finding the appropriate area_type\n",
    "np.where(X.columns=='Built-up  Area')[0][0]"
   ]
  },
  {
   "cell_type": "code",
   "execution_count": 61,
   "id": "d2601807",
   "metadata": {},
   "outputs": [
    {
     "data": {
      "text/plain": [
       "100"
      ]
     },
     "execution_count": 61,
     "metadata": {},
     "output_type": "execute_result"
    }
   ],
   "source": [
    "# For finding the appropriate availability\n",
    "np.where(X.columns=='Ready To Move')[0][0]"
   ]
  },
  {
   "cell_type": "code",
   "execution_count": 62,
   "id": "6cd0cb10",
   "metadata": {},
   "outputs": [],
   "source": [
    "# Creating a fuction to predict values\n",
    "def prediction(location, bhk, bath, balcony, sqft, area_type, availability):\n",
    "    \n",
    "    loc_index, area_index, avail_index = -1,-1,-1\n",
    "        \n",
    "    if location!='other':\n",
    "        loc_index = int(np.where(X.columns==location)[0][0])\n",
    "    \n",
    "    if area_type!='Super built-up  Area':\n",
    "        area_index = np.where(X.columns==area_type)[0][0]\n",
    "        \n",
    "    if availability!='Not Ready':        \n",
    "        avail_index = np.where(X.columns==availability)[0][0]\n",
    "            \n",
    "    x = np.zeros(len(X.columns))\n",
    "    x[0] = bath\n",
    "    x[1] = balcony\n",
    "    x[2] = bhk\n",
    "    x[3] = sqft\n",
    "    \n",
    "    if loc_index >= 0:\n",
    "        x[loc_index] = 1\n",
    "    if area_index >= 0:\n",
    "        x[area_index] = 1\n",
    "    if avail_index >= 0:\n",
    "        x[avail_index] = 1\n",
    "        \n",
    "    return model.predict([x])[0]"
   ]
  },
  {
   "cell_type": "code",
   "execution_count": 63,
   "id": "87f10090",
   "metadata": {},
   "outputs": [
    {
     "data": {
      "text/plain": [
       "52.17049124040442"
      ]
     },
     "execution_count": 63,
     "metadata": {},
     "output_type": "execute_result"
    }
   ],
   "source": [
    "# Prediction 1\n",
    "# Input in the form : Location, BHK, Bath, Balcony, Sqft, area_type, availability.\n",
    "prediction('Balaji Nagar', 2, 2, 2, 1000, 'Built-up  Area', 'Ready To Move')"
   ]
  },
  {
   "cell_type": "code",
   "execution_count": 65,
   "id": "b2bba7b1",
   "metadata": {},
   "outputs": [
    {
     "data": {
      "text/plain": [
       "140.23864441107236"
      ]
     },
     "execution_count": 65,
     "metadata": {},
     "output_type": "execute_result"
    }
   ],
   "source": [
    "# Prediction 2\n",
    "# Input in the form : Location, BHK, Bath, Balcony, Sqft, area_type, availability.\n",
    "prediction('Baner', 2, 3, 2, 2000, 'Plot  Area', 'Not Ready')"
   ]
  },
  {
   "cell_type": "code",
   "execution_count": 66,
   "id": "9e421c50",
   "metadata": {},
   "outputs": [
    {
     "data": {
      "text/plain": [
       "140.18213495419673"
      ]
     },
     "execution_count": 66,
     "metadata": {},
     "output_type": "execute_result"
    }
   ],
   "source": [
    "# Prediction 3\n",
    "# Input in the form : Location, BHK, Bath, Balcony, Sqft, area_type, availability.\n",
    "prediction('Camp', 2, 3, 2, 2000, 'Plot  Area', 'Not Ready')"
   ]
  },
  {
   "cell_type": "code",
   "execution_count": 67,
   "id": "1b5252f8",
   "metadata": {},
   "outputs": [
    {
     "data": {
      "text/plain": [
       "52.09543340931988"
      ]
     },
     "execution_count": 67,
     "metadata": {},
     "output_type": "execute_result"
    }
   ],
   "source": [
    "# Prediction 4\n",
    "# Input in the form : Location, BHK, Bath, Balcony, Sqft, area_type, availability.\n",
    "prediction('Hadapsar', 2, 2, 2, 1000, 'Super built-up  Area', 'Ready To Move')"
   ]
  }
 ],
 "metadata": {
  "kernelspec": {
   "display_name": "Python 3 (ipykernel)",
   "language": "python",
   "name": "python3"
  },
  "language_info": {
   "codemirror_mode": {
    "name": "ipython",
    "version": 3
   },
   "file_extension": ".py",
   "mimetype": "text/x-python",
   "name": "python",
   "nbconvert_exporter": "python",
   "pygments_lexer": "ipython3",
   "version": "3.9.7"
  }
 },
 "nbformat": 4,
 "nbformat_minor": 5
}
